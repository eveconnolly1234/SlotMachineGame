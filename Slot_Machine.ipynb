{
 "cells": [
  {
   "cell_type": "code",
   "execution_count": 1,
   "metadata": {},
   "outputs": [],
   "source": [
    "import emoji\n",
    "from random import choice"
   ]
  },
  {
   "cell_type": "code",
   "execution_count": 2,
   "metadata": {},
   "outputs": [],
   "source": [
    " #sets faces array\n",
    "faces = [emoji.emojize(':red_apple:'),\n",
    "         emoji.emojize(':pear:'),\n",
    "         emoji.emojize(':tangerine:')\n",
    "        ]\n",
    "class column():\n",
    "\n",
    "    def __init__(self):\n",
    "        #face changes for each instance of the method\n",
    "        self.face=choice(faces)\n",
    "  \n",
    "    def change_face(self):\n",
    "        #choice() jumbles the output of in the faces array\n",
    "        self.face=choice(faces)\n",
    "        return self.face\n",
    "    \n"
   ]
  },
  {
   "cell_type": "code",
   "execution_count": 3,
   "metadata": {},
   "outputs": [],
   "source": [
    "class slot():\n",
    "    def __init__(self):\n",
    "        #instance variables\n",
    "        self.col1=column()\n",
    "        self.col2=column()\n",
    "        self.col3=column()\n",
    "    \n",
    "    \n",
    "    def show_slot(self):\n",
    "        #shows the output of instance variables\n",
    "        return self.col1.face,self.col2.face,self.col3.face\n",
    "    \n",
    "    def pull_handle(self):\n",
    "        #activates the change face method in slot class\n",
    "        self.col1.change_face()\n",
    "        self.col2.change_face()\n",
    "        self.col3.change_face()\n",
    "        \n",
    "    def take_bet(self, value):\n",
    "        #takes the value inputted by the user to be used in the bet\n",
    "        self.value=value\n",
    "        \n",
    "    def score_slots(self):\n",
    "        #calculates the ooutcome of the bet places according to the results of the slot machine:\n",
    "        if self.col1.face==self.col2.face==self.col3.face:\n",
    "            return self.value*2\n",
    "        #Full house returns twice the value bet\n",
    "        elif self.col1.face==self.col2.face or self.col1.face==self.col3.face or self.col2.face==self.col3.face:\n",
    "            return self.value*1.5\n",
    "        #half house returns one and a half the value of the bet\n",
    "        else :\n",
    "            return 0\n",
    "        #empty house returns nothing to purse\n",
    "  "
   ]
  },
  {
   "cell_type": "code",
   "execution_count": 4,
   "metadata": {},
   "outputs": [],
   "source": [
    "class purse():\n",
    "    def __init__(self,balance):\n",
    "        #instance variable to the balance\n",
    "        self.balance = balance\n",
    "        \n",
    "\n",
    "    def debit(self,value):\n",
    "        #calculates the balance including debit amounts\n",
    "        self.balance+=value\n",
    "    \n",
    "    def credit(self,winnings):\n",
    "        #calculates the balance including credit amounts\n",
    "        self.balance-=winnings\n",
    "        \n",
    "    def get_balance(self):\n",
    "        #reurns the balance value for user\n",
    "        return (self.balance)  \n",
    "        "
   ]
  },
  {
   "cell_type": "code",
   "execution_count": null,
   "metadata": {},
   "outputs": [],
   "source": [
    "def run_slot_machine():\n",
    "    #method to play the game\n",
    "    money=purse(10)\n",
    "    #initial value of purse for player\n",
    "    \n",
    "    print(\"============= SLOT MACHINE ==============\")\n",
    "    print(\"Minimum bet is 2. Type 'N' to exit\")\n",
    "    print(\"You have: \",money.balance)\n",
    "    print( )\n",
    "        \n",
    "    box = input(\"How much do you want to bet? \")\n",
    "    run_slot=slot()\n",
    "    #variable of the slot method\n",
    "    \n",
    "    while box!=\"N\" and money.balance>=2:\n",
    "    #checks the input from the user- not N and greater than 2\n",
    "        try:\n",
    "            if float(box) <= money.get_balance() and float(box)>=2:\n",
    "            #checks that the box value is less than or equal to the balance and is greater than or equal to 2\n",
    "                #runs each method created in class above\n",
    "                run_slot.take_bet(float(box))\n",
    "                money.credit(float(box))\n",
    "                run_slot.pull_handle()\n",
    "                money.debit(run_slot.score_slots())\n",
    "                print(run_slot.show_slot())\n",
    "                print(\"Your score: \",run_slot.score_slots(),\"- You have: \",money.get_balance())\n",
    "                #prints values for user\n",
    "        except ValueError:\n",
    "            #if a non float value is entered Error will print back \n",
    "            print(\"Error: Please enter a number\")\n",
    "            \n",
    "        print( )\n",
    "        print(\"How much do you want to bet? Type 'N' to exit\")\n",
    "        box=input()\n",
    "    print(\"Thank you for playing!\")\n",
    "    print(\"You are leaving with\",money.balance)"
   ]
  },
  {
   "cell_type": "code",
   "execution_count": null,
   "metadata": {
    "scrolled": true
   },
   "outputs": [],
   "source": [
    "run_slot_machine()\n"
   ]
  },
  {
   "cell_type": "code",
   "execution_count": null,
   "metadata": {},
   "outputs": [],
   "source": []
  }
 ],
 "metadata": {
  "kernelspec": {
   "display_name": "Python 3",
   "language": "python",
   "name": "python3"
  },
  "language_info": {
   "codemirror_mode": {
    "name": "ipython",
    "version": 3
   },
   "file_extension": ".py",
   "mimetype": "text/x-python",
   "name": "python",
   "nbconvert_exporter": "python",
   "pygments_lexer": "ipython3",
   "version": "3.7.4"
  }
 },
 "nbformat": 4,
 "nbformat_minor": 2
}
